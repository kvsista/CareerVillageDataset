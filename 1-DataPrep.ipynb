{
 "cells": [
  {
   "cell_type": "markdown",
   "metadata": {},
   "source": [
    "# Welcome\n",
    "In this competition you'll notice there isn't a leaderboard, and you are not required to develop a predictive model. This isn't a traditional supervised Kaggle machine learning competition.\n",
    "\n",
    "CareerVillage.org is a nonprofit that crowdsources career advice for underserved youth. Founded in 2011 in four classrooms in New York City, the platform has now served career advice from 25,000 volunteer professionals to over 3.5M online learners. The platform uses a Q&A style similar to StackOverflow or Quora to provide students with answers to any question about any career.\n",
    "\n",
    "In this Data Science for Good challenge, CareerVillage.org, in partnership with Google.org, is inviting you to help recommend questions to appropriate volunteers. To support this challenge, CareerVillage.org has supplied five years of data.\n",
    "\n",
    "### Problem Statement\n",
    "The U.S. has almost 500 students for every guidance counselor. Underserved youth lack the network to find their career role models, making CareerVillage.org the only option for millions of young people in America and around the globe with nowhere else to turn.\n",
    "\n",
    "To date, 25,000 volunteers have created profiles and opted in to receive emails when a career question is a good fit for them. This is where your skills come in. To help students get the advice they need, the team at CareerVillage.org needs to be able to send the right questions to the right volunteers. The notifications sent to volunteers seem to have the greatest impact on how many questions are answered.\n",
    "\n",
    "<strong>Your objective: develop a method to recommend relevant questions to the professionals who are most likely to answer them.</strong>\n",
    "\n",
    "### Criteria for Measuring Solutions\n",
    "Performance: How well does the solution match professionals to the questions they would be motivated to answer? CareerVillage.org will not be able to live-test every submission, so a strong entry will clearly articulate why it will be effective at motivating answers.\n",
    "\n",
    "Easy to implement: The CareerVillage.org team wants to put the winning submissions to work, quickly. A good entry will be well documented and easy to test in production.\n",
    "\n",
    "Extensibility: In the future, CareerVillage.org aims to add more data features and to accommodate new objectives. Winning submissions should allow for this and other augmentations to be added in the future."
   ]
  },
  {
   "cell_type": "code",
   "execution_count": 1,
   "metadata": {},
   "outputs": [],
   "source": [
    "import numpy as np\n",
    "import pandas as pd\n",
    "import datetime as dt\n",
    "import matplotlib.pyplot as plt\n",
    "%matplotlib inline"
   ]
  },
  {
   "cell_type": "code",
   "execution_count": 2,
   "metadata": {},
   "outputs": [],
   "source": [
    "from glob import glob"
   ]
  },
  {
   "cell_type": "code",
   "execution_count": 4,
   "metadata": {},
   "outputs": [
    {
     "data": {
      "text/plain": [
       "['DirEntry',\n",
       " 'F_OK',\n",
       " 'MutableMapping',\n",
       " 'O_APPEND',\n",
       " 'O_BINARY',\n",
       " 'O_CREAT',\n",
       " 'O_EXCL',\n",
       " 'O_NOINHERIT',\n",
       " 'O_RANDOM',\n",
       " 'O_RDONLY',\n",
       " 'O_RDWR',\n",
       " 'O_SEQUENTIAL',\n",
       " 'O_SHORT_LIVED',\n",
       " 'O_TEMPORARY',\n",
       " 'O_TEXT',\n",
       " 'O_TRUNC',\n",
       " 'O_WRONLY',\n",
       " 'P_DETACH',\n",
       " 'P_NOWAIT',\n",
       " 'P_NOWAITO',\n",
       " 'P_OVERLAY',\n",
       " 'P_WAIT',\n",
       " 'PathLike',\n",
       " 'R_OK',\n",
       " 'SEEK_CUR',\n",
       " 'SEEK_END',\n",
       " 'SEEK_SET',\n",
       " 'TMP_MAX',\n",
       " 'W_OK',\n",
       " 'X_OK',\n",
       " '_Environ',\n",
       " '__all__',\n",
       " '__builtins__',\n",
       " '__cached__',\n",
       " '__doc__',\n",
       " '__file__',\n",
       " '__loader__',\n",
       " '__name__',\n",
       " '__package__',\n",
       " '__spec__',\n",
       " '_execvpe',\n",
       " '_exists',\n",
       " '_exit',\n",
       " '_fspath',\n",
       " '_get_exports_list',\n",
       " '_putenv',\n",
       " '_unsetenv',\n",
       " '_wrap_close',\n",
       " 'abc',\n",
       " 'abort',\n",
       " 'access',\n",
       " 'altsep',\n",
       " 'chdir',\n",
       " 'chmod',\n",
       " 'close',\n",
       " 'closerange',\n",
       " 'cpu_count',\n",
       " 'curdir',\n",
       " 'defpath',\n",
       " 'device_encoding',\n",
       " 'devnull',\n",
       " 'dup',\n",
       " 'dup2',\n",
       " 'environ',\n",
       " 'error',\n",
       " 'execl',\n",
       " 'execle',\n",
       " 'execlp',\n",
       " 'execlpe',\n",
       " 'execv',\n",
       " 'execve',\n",
       " 'execvp',\n",
       " 'execvpe',\n",
       " 'extsep',\n",
       " 'fdopen',\n",
       " 'fsdecode',\n",
       " 'fsencode',\n",
       " 'fspath',\n",
       " 'fstat',\n",
       " 'fsync',\n",
       " 'ftruncate',\n",
       " 'get_exec_path',\n",
       " 'get_handle_inheritable',\n",
       " 'get_inheritable',\n",
       " 'get_terminal_size',\n",
       " 'getcwd',\n",
       " 'getcwdb',\n",
       " 'getenv',\n",
       " 'getlogin',\n",
       " 'getpid',\n",
       " 'getppid',\n",
       " 'isatty',\n",
       " 'kill',\n",
       " 'linesep',\n",
       " 'link',\n",
       " 'listdir',\n",
       " 'lseek',\n",
       " 'lstat',\n",
       " 'makedirs',\n",
       " 'mkdir',\n",
       " 'name',\n",
       " 'open',\n",
       " 'pardir',\n",
       " 'path',\n",
       " 'pathsep',\n",
       " 'pipe',\n",
       " 'popen',\n",
       " 'putenv',\n",
       " 'read',\n",
       " 'readlink',\n",
       " 'remove',\n",
       " 'removedirs',\n",
       " 'rename',\n",
       " 'renames',\n",
       " 'replace',\n",
       " 'rmdir',\n",
       " 'scandir',\n",
       " 'sep',\n",
       " 'set_handle_inheritable',\n",
       " 'set_inheritable',\n",
       " 'spawnl',\n",
       " 'spawnle',\n",
       " 'spawnv',\n",
       " 'spawnve',\n",
       " 'st',\n",
       " 'startfile',\n",
       " 'stat',\n",
       " 'stat_result',\n",
       " 'statvfs_result',\n",
       " 'strerror',\n",
       " 'supports_bytes_environ',\n",
       " 'supports_dir_fd',\n",
       " 'supports_effective_ids',\n",
       " 'supports_fd',\n",
       " 'supports_follow_symlinks',\n",
       " 'symlink',\n",
       " 'sys',\n",
       " 'system',\n",
       " 'terminal_size',\n",
       " 'times',\n",
       " 'times_result',\n",
       " 'truncate',\n",
       " 'umask',\n",
       " 'uname_result',\n",
       " 'unlink',\n",
       " 'urandom',\n",
       " 'utime',\n",
       " 'waitpid',\n",
       " 'walk',\n",
       " 'write']"
      ]
     },
     "execution_count": 4,
     "metadata": {},
     "output_type": "execute_result"
    }
   ],
   "source": [
    "import os\n",
    "dir(os)"
   ]
  },
  {
   "cell_type": "code",
   "execution_count": 15,
   "metadata": {},
   "outputs": [
    {
     "data": {
      "text/plain": [
       "'C:\\\\Users\\\\kvsis\\\\Desktop\\\\Learning\\\\Kaggle\\\\data-science-for-good-careervillage'"
      ]
     },
     "execution_count": 15,
     "metadata": {},
     "output_type": "execute_result"
    }
   ],
   "source": [
    "path = os.getcwd()\n",
    "path"
   ]
  },
  {
   "cell_type": "code",
   "execution_count": 16,
   "metadata": {},
   "outputs": [
    {
     "data": {
      "text/plain": [
       "['answers.csv',\n",
       " 'answer_scores.csv',\n",
       " 'comments.csv',\n",
       " 'emails.csv',\n",
       " 'groups.csv',\n",
       " 'group_memberships.csv',\n",
       " 'matches.csv',\n",
       " 'professionals.csv',\n",
       " 'questions.csv',\n",
       " 'question_scores.csv',\n",
       " 'school_memberships.csv',\n",
       " 'students.csv',\n",
       " 'tags.csv',\n",
       " 'tag_questions.csv',\n",
       " 'tag_users.csv']"
      ]
     },
     "execution_count": 16,
     "metadata": {},
     "output_type": "execute_result"
    }
   ],
   "source": [
    "glob('*.csv')"
   ]
  },
  {
   "cell_type": "code",
   "execution_count": 20,
   "metadata": {},
   "outputs": [],
   "source": [
    "answers = pd.read_csv('answers.csv')\n",
    "answer_scores = pd.read_csv('answer_scores.csv')\n",
    "comments = pd.read_csv('comments.csv')\n",
    "emails = pd.read_csv('emails.csv')\n",
    "groups = pd.read_csv('groups.csv')\n",
    "group_memberships = pd.read_csv('group_memberships.csv')\n",
    "matches = pd.read_csv('matches.csv')\n",
    "professionals = pd.read_csv('professionals.csv')\n",
    "questions = pd.read_csv('questions.csv')\n",
    "question_scores = pd.read_csv('question_scores.csv')\n",
    "school_memberships = pd.read_csv('school_memberships.csv')\n",
    "students = pd.read_csv('students.csv')\n",
    "tags = pd.read_csv('tags.csv')\n",
    "tag_questions = pd.read_csv('tag_questions.csv')\n",
    "tag_users = pd.read_csv('tag_users.csv')"
   ]
  },
  {
   "cell_type": "code",
   "execution_count": 31,
   "metadata": {},
   "outputs": [
    {
     "data": {
      "text/html": [
       "<div>\n",
       "<style scoped>\n",
       "    .dataframe tbody tr th:only-of-type {\n",
       "        vertical-align: middle;\n",
       "    }\n",
       "\n",
       "    .dataframe tbody tr th {\n",
       "        vertical-align: top;\n",
       "    }\n",
       "\n",
       "    .dataframe thead th {\n",
       "        text-align: right;\n",
       "    }\n",
       "</style>\n",
       "<table border=\"1\" class=\"dataframe\">\n",
       "  <thead>\n",
       "    <tr style=\"text-align: right;\">\n",
       "      <th></th>\n",
       "      <th>0</th>\n",
       "      <th>1</th>\n",
       "      <th>2</th>\n",
       "      <th>3</th>\n",
       "      <th>4</th>\n",
       "      <th>5</th>\n",
       "      <th>6</th>\n",
       "      <th>7</th>\n",
       "      <th>8</th>\n",
       "      <th>9</th>\n",
       "      <th>10</th>\n",
       "      <th>11</th>\n",
       "      <th>12</th>\n",
       "      <th>13</th>\n",
       "      <th>14</th>\n",
       "    </tr>\n",
       "  </thead>\n",
       "  <tbody>\n",
       "    <tr>\n",
       "      <th>0</th>\n",
       "      <td>answers_id</td>\n",
       "      <td>id</td>\n",
       "      <td>comments_id</td>\n",
       "      <td>emails_id</td>\n",
       "      <td>groups_id</td>\n",
       "      <td>group_memberships_group_id</td>\n",
       "      <td>matches_email_id</td>\n",
       "      <td>professionals_id</td>\n",
       "      <td>questions_id</td>\n",
       "      <td>id</td>\n",
       "      <td>school_memberships_school_id</td>\n",
       "      <td>students_id</td>\n",
       "      <td>tags_tag_id</td>\n",
       "      <td>tag_questions_tag_id</td>\n",
       "      <td>tag_users_tag_id</td>\n",
       "    </tr>\n",
       "    <tr>\n",
       "      <th>1</th>\n",
       "      <td>answers_author_id</td>\n",
       "      <td>score</td>\n",
       "      <td>comments_author_id</td>\n",
       "      <td>emails_recipient_id</td>\n",
       "      <td>groups_group_type</td>\n",
       "      <td>group_memberships_user_id</td>\n",
       "      <td>matches_question_id</td>\n",
       "      <td>professionals_location</td>\n",
       "      <td>questions_author_id</td>\n",
       "      <td>score</td>\n",
       "      <td>school_memberships_user_id</td>\n",
       "      <td>students_location</td>\n",
       "      <td>tags_tag_name</td>\n",
       "      <td>tag_questions_question_id</td>\n",
       "      <td>tag_users_user_id</td>\n",
       "    </tr>\n",
       "    <tr>\n",
       "      <th>2</th>\n",
       "      <td>answers_question_id</td>\n",
       "      <td>None</td>\n",
       "      <td>comments_parent_content_id</td>\n",
       "      <td>emails_date_sent</td>\n",
       "      <td>None</td>\n",
       "      <td>None</td>\n",
       "      <td>None</td>\n",
       "      <td>professionals_industry</td>\n",
       "      <td>questions_date_added</td>\n",
       "      <td>None</td>\n",
       "      <td>None</td>\n",
       "      <td>students_date_joined</td>\n",
       "      <td>None</td>\n",
       "      <td>None</td>\n",
       "      <td>None</td>\n",
       "    </tr>\n",
       "    <tr>\n",
       "      <th>3</th>\n",
       "      <td>answers_date_added</td>\n",
       "      <td>None</td>\n",
       "      <td>comments_date_added</td>\n",
       "      <td>emails_frequency_level</td>\n",
       "      <td>None</td>\n",
       "      <td>None</td>\n",
       "      <td>None</td>\n",
       "      <td>professionals_headline</td>\n",
       "      <td>questions_title</td>\n",
       "      <td>None</td>\n",
       "      <td>None</td>\n",
       "      <td>None</td>\n",
       "      <td>None</td>\n",
       "      <td>None</td>\n",
       "      <td>None</td>\n",
       "    </tr>\n",
       "    <tr>\n",
       "      <th>4</th>\n",
       "      <td>answers_body</td>\n",
       "      <td>None</td>\n",
       "      <td>comments_body</td>\n",
       "      <td>None</td>\n",
       "      <td>None</td>\n",
       "      <td>None</td>\n",
       "      <td>None</td>\n",
       "      <td>professionals_date_joined</td>\n",
       "      <td>questions_body</td>\n",
       "      <td>None</td>\n",
       "      <td>None</td>\n",
       "      <td>None</td>\n",
       "      <td>None</td>\n",
       "      <td>None</td>\n",
       "      <td>None</td>\n",
       "    </tr>\n",
       "  </tbody>\n",
       "</table>\n",
       "</div>"
      ],
      "text/plain": [
       "                    0      1                           2   \\\n",
       "0           answers_id     id                 comments_id   \n",
       "1    answers_author_id  score          comments_author_id   \n",
       "2  answers_question_id   None  comments_parent_content_id   \n",
       "3   answers_date_added   None         comments_date_added   \n",
       "4         answers_body   None               comments_body   \n",
       "\n",
       "                       3                  4                           5   \\\n",
       "0               emails_id          groups_id  group_memberships_group_id   \n",
       "1     emails_recipient_id  groups_group_type   group_memberships_user_id   \n",
       "2        emails_date_sent               None                        None   \n",
       "3  emails_frequency_level               None                        None   \n",
       "4                    None               None                        None   \n",
       "\n",
       "                    6                          7                     8   \\\n",
       "0     matches_email_id           professionals_id          questions_id   \n",
       "1  matches_question_id     professionals_location   questions_author_id   \n",
       "2                 None     professionals_industry  questions_date_added   \n",
       "3                 None     professionals_headline       questions_title   \n",
       "4                 None  professionals_date_joined        questions_body   \n",
       "\n",
       "      9                             10                    11             12  \\\n",
       "0     id  school_memberships_school_id           students_id    tags_tag_id   \n",
       "1  score    school_memberships_user_id     students_location  tags_tag_name   \n",
       "2   None                          None  students_date_joined           None   \n",
       "3   None                          None                  None           None   \n",
       "4   None                          None                  None           None   \n",
       "\n",
       "                          13                 14  \n",
       "0       tag_questions_tag_id   tag_users_tag_id  \n",
       "1  tag_questions_question_id  tag_users_user_id  \n",
       "2                       None               None  \n",
       "3                       None               None  \n",
       "4                       None               None  "
      ]
     },
     "execution_count": 31,
     "metadata": {},
     "output_type": "execute_result"
    }
   ],
   "source": [
    "meta = pd.DataFrame([answers.columns.values,\n",
    "                   answer_scores.columns.values,\n",
    "                   comments.columns.values,\n",
    "                   emails.columns.values,\n",
    "                   groups.columns.values,\n",
    "                   group_memberships.columns.values,\n",
    "                   matches.columns.values,\n",
    "                   professionals.columns.values,\n",
    "                   questions.columns.values,\n",
    "                   question_scores.columns.values,\n",
    "                   school_memberships.columns.values,\n",
    "                   students.columns.values,\n",
    "                   tags.columns.values,\n",
    "                   tag_questions.columns.values,\n",
    "                   tag_users.columns.values]).T\n",
    "meta"
   ]
  },
  {
   "cell_type": "code",
   "execution_count": 32,
   "metadata": {},
   "outputs": [],
   "source": [
    "columns = ['answers',\n",
    "           'answer_scores',\n",
    "           'comments',\n",
    "           'emails',\n",
    "           'groups',\n",
    "           'group_memberships',\n",
    "           'matches',\n",
    "           'professionals',\n",
    "           'questions',\n",
    "           'question_scores',\n",
    "           'school_memberships',\n",
    "           'students',\n",
    "           'tags',\n",
    "           'tag_questions',\n",
    "           'tag_users']\n",
    "meta.columns = columns"
   ]
  },
  {
   "cell_type": "code",
   "execution_count": 36,
   "metadata": {},
   "outputs": [
    {
     "data": {
      "text/html": [
       "<div>\n",
       "<style scoped>\n",
       "    .dataframe tbody tr th:only-of-type {\n",
       "        vertical-align: middle;\n",
       "    }\n",
       "\n",
       "    .dataframe tbody tr th {\n",
       "        vertical-align: top;\n",
       "    }\n",
       "\n",
       "    .dataframe thead th {\n",
       "        text-align: right;\n",
       "    }\n",
       "</style>\n",
       "<table border=\"1\" class=\"dataframe\">\n",
       "  <thead>\n",
       "    <tr style=\"text-align: right;\">\n",
       "      <th></th>\n",
       "      <th>0</th>\n",
       "      <th>1</th>\n",
       "      <th>2</th>\n",
       "      <th>3</th>\n",
       "      <th>4</th>\n",
       "    </tr>\n",
       "  </thead>\n",
       "  <tbody>\n",
       "    <tr>\n",
       "      <th>answers</th>\n",
       "      <td>answers_id</td>\n",
       "      <td>answers_author_id</td>\n",
       "      <td>answers_question_id</td>\n",
       "      <td>answers_date_added</td>\n",
       "      <td>answers_body</td>\n",
       "    </tr>\n",
       "    <tr>\n",
       "      <th>answer_scores</th>\n",
       "      <td>id</td>\n",
       "      <td>score</td>\n",
       "      <td>None</td>\n",
       "      <td>None</td>\n",
       "      <td>None</td>\n",
       "    </tr>\n",
       "    <tr>\n",
       "      <th>comments</th>\n",
       "      <td>comments_id</td>\n",
       "      <td>comments_author_id</td>\n",
       "      <td>comments_parent_content_id</td>\n",
       "      <td>comments_date_added</td>\n",
       "      <td>comments_body</td>\n",
       "    </tr>\n",
       "    <tr>\n",
       "      <th>emails</th>\n",
       "      <td>emails_id</td>\n",
       "      <td>emails_recipient_id</td>\n",
       "      <td>emails_date_sent</td>\n",
       "      <td>emails_frequency_level</td>\n",
       "      <td>None</td>\n",
       "    </tr>\n",
       "    <tr>\n",
       "      <th>groups</th>\n",
       "      <td>groups_id</td>\n",
       "      <td>groups_group_type</td>\n",
       "      <td>None</td>\n",
       "      <td>None</td>\n",
       "      <td>None</td>\n",
       "    </tr>\n",
       "    <tr>\n",
       "      <th>group_memberships</th>\n",
       "      <td>group_memberships_group_id</td>\n",
       "      <td>group_memberships_user_id</td>\n",
       "      <td>None</td>\n",
       "      <td>None</td>\n",
       "      <td>None</td>\n",
       "    </tr>\n",
       "    <tr>\n",
       "      <th>matches</th>\n",
       "      <td>matches_email_id</td>\n",
       "      <td>matches_question_id</td>\n",
       "      <td>None</td>\n",
       "      <td>None</td>\n",
       "      <td>None</td>\n",
       "    </tr>\n",
       "    <tr>\n",
       "      <th>professionals</th>\n",
       "      <td>professionals_id</td>\n",
       "      <td>professionals_location</td>\n",
       "      <td>professionals_industry</td>\n",
       "      <td>professionals_headline</td>\n",
       "      <td>professionals_date_joined</td>\n",
       "    </tr>\n",
       "    <tr>\n",
       "      <th>questions</th>\n",
       "      <td>questions_id</td>\n",
       "      <td>questions_author_id</td>\n",
       "      <td>questions_date_added</td>\n",
       "      <td>questions_title</td>\n",
       "      <td>questions_body</td>\n",
       "    </tr>\n",
       "    <tr>\n",
       "      <th>question_scores</th>\n",
       "      <td>id</td>\n",
       "      <td>score</td>\n",
       "      <td>None</td>\n",
       "      <td>None</td>\n",
       "      <td>None</td>\n",
       "    </tr>\n",
       "    <tr>\n",
       "      <th>school_memberships</th>\n",
       "      <td>school_memberships_school_id</td>\n",
       "      <td>school_memberships_user_id</td>\n",
       "      <td>None</td>\n",
       "      <td>None</td>\n",
       "      <td>None</td>\n",
       "    </tr>\n",
       "    <tr>\n",
       "      <th>students</th>\n",
       "      <td>students_id</td>\n",
       "      <td>students_location</td>\n",
       "      <td>students_date_joined</td>\n",
       "      <td>None</td>\n",
       "      <td>None</td>\n",
       "    </tr>\n",
       "    <tr>\n",
       "      <th>tags</th>\n",
       "      <td>tags_tag_id</td>\n",
       "      <td>tags_tag_name</td>\n",
       "      <td>None</td>\n",
       "      <td>None</td>\n",
       "      <td>None</td>\n",
       "    </tr>\n",
       "    <tr>\n",
       "      <th>tag_questions</th>\n",
       "      <td>tag_questions_tag_id</td>\n",
       "      <td>tag_questions_question_id</td>\n",
       "      <td>None</td>\n",
       "      <td>None</td>\n",
       "      <td>None</td>\n",
       "    </tr>\n",
       "    <tr>\n",
       "      <th>tag_users</th>\n",
       "      <td>tag_users_tag_id</td>\n",
       "      <td>tag_users_user_id</td>\n",
       "      <td>None</td>\n",
       "      <td>None</td>\n",
       "      <td>None</td>\n",
       "    </tr>\n",
       "  </tbody>\n",
       "</table>\n",
       "</div>"
      ],
      "text/plain": [
       "                                               0                           1  \\\n",
       "answers                               answers_id           answers_author_id   \n",
       "answer_scores                                 id                       score   \n",
       "comments                             comments_id          comments_author_id   \n",
       "emails                                 emails_id         emails_recipient_id   \n",
       "groups                                 groups_id           groups_group_type   \n",
       "group_memberships     group_memberships_group_id   group_memberships_user_id   \n",
       "matches                         matches_email_id         matches_question_id   \n",
       "professionals                   professionals_id      professionals_location   \n",
       "questions                           questions_id         questions_author_id   \n",
       "question_scores                               id                       score   \n",
       "school_memberships  school_memberships_school_id  school_memberships_user_id   \n",
       "students                             students_id           students_location   \n",
       "tags                                 tags_tag_id               tags_tag_name   \n",
       "tag_questions               tag_questions_tag_id   tag_questions_question_id   \n",
       "tag_users                       tag_users_tag_id           tag_users_user_id   \n",
       "\n",
       "                                             2                       3  \\\n",
       "answers                    answers_question_id      answers_date_added   \n",
       "answer_scores                             None                    None   \n",
       "comments            comments_parent_content_id     comments_date_added   \n",
       "emails                        emails_date_sent  emails_frequency_level   \n",
       "groups                                    None                    None   \n",
       "group_memberships                         None                    None   \n",
       "matches                                   None                    None   \n",
       "professionals           professionals_industry  professionals_headline   \n",
       "questions                 questions_date_added         questions_title   \n",
       "question_scores                           None                    None   \n",
       "school_memberships                        None                    None   \n",
       "students                  students_date_joined                    None   \n",
       "tags                                      None                    None   \n",
       "tag_questions                             None                    None   \n",
       "tag_users                                 None                    None   \n",
       "\n",
       "                                            4  \n",
       "answers                          answers_body  \n",
       "answer_scores                            None  \n",
       "comments                        comments_body  \n",
       "emails                                   None  \n",
       "groups                                   None  \n",
       "group_memberships                        None  \n",
       "matches                                  None  \n",
       "professionals       professionals_date_joined  \n",
       "questions                      questions_body  \n",
       "question_scores                          None  \n",
       "school_memberships                       None  \n",
       "students                                 None  \n",
       "tags                                     None  \n",
       "tag_questions                            None  \n",
       "tag_users                                None  "
      ]
     },
     "execution_count": 36,
     "metadata": {},
     "output_type": "execute_result"
    }
   ],
   "source": [
    "meta = meta.T\n",
    "meta"
   ]
  },
  {
   "cell_type": "markdown",
   "metadata": {},
   "source": [
    "## What quetions do we have from the data?\n",
    "\n",
    "1. How many students and professionals participate on the platform?\n",
    "2. Historical activity of both students and professionals on a monthly basis by year on the platform?\n",
    "3. How many professionals have answered atleast 1 question and how many students have asked atleast 1 question?\n",
    "4. How many groups can we form of professionals based on them answering questions?\n",
    "5. How many students and professionals are part of a group?\n",
    "6. Do students/professionals who are part of a group participate more/less?\n",
    "\n",
    "#### Let's answer the above questions"
   ]
  },
  {
   "cell_type": "markdown",
   "metadata": {},
   "source": [
    "##### How many students and professionals participate on the platform?"
   ]
  },
  {
   "cell_type": "code",
   "execution_count": 44,
   "metadata": {},
   "outputs": [
    {
     "data": {
      "text/html": [
       "<div>\n",
       "<style scoped>\n",
       "    .dataframe tbody tr th:only-of-type {\n",
       "        vertical-align: middle;\n",
       "    }\n",
       "\n",
       "    .dataframe tbody tr th {\n",
       "        vertical-align: top;\n",
       "    }\n",
       "\n",
       "    .dataframe thead th {\n",
       "        text-align: right;\n",
       "    }\n",
       "</style>\n",
       "<table border=\"1\" class=\"dataframe\">\n",
       "  <thead>\n",
       "    <tr style=\"text-align: right;\">\n",
       "      <th></th>\n",
       "      <th>Student Count</th>\n",
       "      <th>Professional Count</th>\n",
       "    </tr>\n",
       "  </thead>\n",
       "  <tbody>\n",
       "    <tr>\n",
       "      <th>0</th>\n",
       "      <td>30971</td>\n",
       "      <td>28152</td>\n",
       "    </tr>\n",
       "  </tbody>\n",
       "</table>\n",
       "</div>"
      ],
      "text/plain": [
       "   Student Count  Professional Count\n",
       "0          30971               28152"
      ]
     },
     "execution_count": 44,
     "metadata": {},
     "output_type": "execute_result"
    }
   ],
   "source": [
    "participants = pd.DataFrame([[len(students), len(professionals)]], columns=['Student Count', 'Professional Count'])\n",
    "participants"
   ]
  },
  {
   "cell_type": "markdown",
   "metadata": {},
   "source": [
    "##### Historical activity of both students and professionals on a monthly basis by year on the platform"
   ]
  },
  {
   "cell_type": "code",
   "execution_count": 45,
   "metadata": {},
   "outputs": [
    {
     "name": "stdout",
     "output_type": "stream",
     "text": [
      "<class 'pandas.core.frame.DataFrame'>\n",
      "RangeIndex: 23931 entries, 0 to 23930\n",
      "Data columns (total 5 columns):\n",
      "questions_id            23931 non-null object\n",
      "questions_author_id     23931 non-null object\n",
      "questions_date_added    23931 non-null object\n",
      "questions_title         23931 non-null object\n",
      "questions_body          23931 non-null object\n",
      "dtypes: object(5)\n",
      "memory usage: 934.9+ KB\n"
     ]
    }
   ],
   "source": [
    "# Let's begin with answering the question for Students\n",
    "questions.info()"
   ]
  },
  {
   "cell_type": "code",
   "execution_count": 48,
   "metadata": {},
   "outputs": [],
   "source": [
    "questions.questions_id = questions.questions_id.astype('str')\n",
    "questions.questions_author_id = questions.questions_author_id.astype('str')\n",
    "questions.questions_date_added = pd.to_datetime(questions.questions_date_added)\n",
    "questions.questions_title = questions.questions_title.astype('str')\n",
    "questions.questions_body = questions.questions_body.astype('str')"
   ]
  },
  {
   "cell_type": "code",
   "execution_count": 49,
   "metadata": {},
   "outputs": [
    {
     "name": "stdout",
     "output_type": "stream",
     "text": [
      "<class 'pandas.core.frame.DataFrame'>\n",
      "RangeIndex: 23931 entries, 0 to 23930\n",
      "Data columns (total 5 columns):\n",
      "questions_id            23931 non-null object\n",
      "questions_author_id     23931 non-null object\n",
      "questions_date_added    23931 non-null datetime64[ns, UTC]\n",
      "questions_title         23931 non-null object\n",
      "questions_body          23931 non-null object\n",
      "dtypes: datetime64[ns, UTC](1), object(4)\n",
      "memory usage: 934.9+ KB\n"
     ]
    }
   ],
   "source": [
    "questions.info()"
   ]
  },
  {
   "cell_type": "code",
   "execution_count": 138,
   "metadata": {},
   "outputs": [
    {
     "data": {
      "text/plain": [
       "<matplotlib.axes._subplots.AxesSubplot at 0x21229c943c8>"
      ]
     },
     "execution_count": 138,
     "metadata": {},
     "output_type": "execute_result"
    },
    {
     "data": {
      "image/png": "[encoded data removed]",
      "text/plain": [
       "<Figure size 1440x720 with 1 Axes>"
      ]
     },
     "metadata": {
      "needs_background": "light"
     },
     "output_type": "display_data"
    }
   ],
   "source": [
    "yearly_questions = questions.questions_date_added.dt.year.value_counts().sort_index()\n",
    "yearly_questions.plot(kind='bar', figsize=(20,10))"
   ]
  },
  {
   "cell_type": "code",
   "execution_count": 137,
   "metadata": {},
   "outputs": [
    {
     "data": {
      "text/plain": [
       "<matplotlib.axes._subplots.AxesSubplot at 0x2122a90b240>"
      ]
     },
     "execution_count": 137,
     "metadata": {},
     "output_type": "execute_result"
    },
    {
     "data": {
      "image/png": "[encoded data removed]",
      "text/plain": [
       "<Figure size 1440x720 with 1 Axes>"
      ]
     },
     "metadata": {
      "needs_background": "light"
     },
     "output_type": "display_data"
    }
   ],
   "source": [
    "monthly_questions = questions.questions_date_added.dt.month.value_counts(normalize=True).sort_index()*100\n",
    "monthly_questions.plot(kind='bar', figsize=(20,10))"
   ]
  },
  {
   "cell_type": "code",
   "execution_count": 139,
   "metadata": {},
   "outputs": [
    {
     "name": "stderr",
     "output_type": "stream",
     "text": [
      "C:\\Users\\kvsis\\Anaconda3\\envs\\deepenv\\lib\\site-packages\\pandas\\core\\arrays\\datetimes.py:1172: UserWarning: Converting to PeriodArray/Index representation will drop timezone information.\n",
      "  \"will drop timezone information.\", UserWarning)\n"
     ]
    },
    {
     "data": {
      "text/plain": [
       "<matplotlib.legend.Legend at 0x21229b0d780>"
      ]
     },
     "execution_count": 139,
     "metadata": {},
     "output_type": "execute_result"
    },
    {
     "data": {
      "image/png": "[encoded data removed]",
      "text/plain": [
       "<Figure size 1440x720 with 1 Axes>"
      ]
     },
     "metadata": {
      "needs_background": "light"
     },
     "output_type": "display_data"
    }
   ],
   "source": [
    "YM_questions = questions.questions_date_added.dt.to_period('M').value_counts().sort_index()\n",
    "YM_questions.plot(kind='bar', figsize=(20,10))\n",
    "plt.legend()"
   ]
  },
  {
   "cell_type": "code",
   "execution_count": 140,
   "metadata": {},
   "outputs": [
    {
     "name": "stdout",
     "output_type": "stream",
     "text": [
      "<class 'pandas.core.frame.DataFrame'>\n",
      "RangeIndex: 51123 entries, 0 to 51122\n",
      "Data columns (total 5 columns):\n",
      "answers_id             51123 non-null object\n",
      "answers_author_id      51123 non-null object\n",
      "answers_question_id    51123 non-null object\n",
      "answers_date_added     51123 non-null object\n",
      "answers_body           51122 non-null object\n",
      "dtypes: object(5)\n",
      "memory usage: 2.0+ MB\n"
     ]
    }
   ],
   "source": [
    "# Now, let's look at the same for Professionals\n",
    "answers.info()"
   ]
  },
  {
   "cell_type": "code",
   "execution_count": 142,
   "metadata": {},
   "outputs": [
    {
     "name": "stdout",
     "output_type": "stream",
     "text": [
      "<class 'pandas.core.frame.DataFrame'>\n",
      "RangeIndex: 51123 entries, 0 to 51122\n",
      "Data columns (total 5 columns):\n",
      "answers_id             51123 non-null object\n",
      "answers_author_id      51123 non-null object\n",
      "answers_question_id    51123 non-null object\n",
      "answers_date_added     51123 non-null datetime64[ns, UTC]\n",
      "answers_body           51123 non-null object\n",
      "dtypes: datetime64[ns, UTC](1), object(4)\n",
      "memory usage: 2.0+ MB\n"
     ]
    }
   ],
   "source": [
    "answers.answers_id = answers.answers_id.astype('str')\n",
    "answers.answers_author_id = answers.answers_author_id.astype('str')\n",
    "answers.answers_question_id = answers.answers_question_id.astype('str')\n",
    "answers.answers_date_added = pd.to_datetime(answers.answers_date_added)\n",
    "answers.answers_body = answers.answers_body.astype('str')\n",
    "answers.info()"
   ]
  },
  {
   "cell_type": "code",
   "execution_count": 168,
   "metadata": {},
   "outputs": [
    {
     "data": {
      "text/plain": [
       "<matplotlib.legend.Legend at 0x2122f975ef0>"
      ]
     },
     "execution_count": 168,
     "metadata": {},
     "output_type": "execute_result"
    },
    {
     "data": {
      "image/png": "[encoded data removed]",
      "text/plain": [
       "<Figure size 1440x720 with 1 Axes>"
      ]
     },
     "metadata": {
      "needs_background": "light"
     },
     "output_type": "display_data"
    }
   ],
   "source": [
    "yearly_answers = answers.answers_date_added.dt.year.value_counts().sort_index()\n",
    "yearly_answers.plot(kind='bar', figsize=(20,10))\n",
    "plt.legend()"
   ]
  },
  {
   "cell_type": "code",
   "execution_count": 146,
   "metadata": {},
   "outputs": [
    {
     "data": {
      "text/plain": [
       "<matplotlib.legend.Legend at 0x2122da1bbe0>"
      ]
     },
     "execution_count": 146,
     "metadata": {},
     "output_type": "execute_result"
    },
    {
     "data": {
      "image/png": "[encoded data removed]",
      "text/plain": [
       "<Figure size 1440x720 with 1 Axes>"
      ]
     },
     "metadata": {
      "needs_background": "light"
     },
     "output_type": "display_data"
    }
   ],
   "source": [
    "monthly_answers = answers.answers_date_added.dt.month.value_counts().sort_index()\n",
    "monthly_answers.plot(kind='bar', figsize=(20,10))\n",
    "plt.legend()"
   ]
  },
  {
   "cell_type": "code",
   "execution_count": 147,
   "metadata": {},
   "outputs": [
    {
     "name": "stderr",
     "output_type": "stream",
     "text": [
      "C:\\Users\\kvsis\\Anaconda3\\envs\\deepenv\\lib\\site-packages\\pandas\\core\\arrays\\datetimes.py:1172: UserWarning: Converting to PeriodArray/Index representation will drop timezone information.\n",
      "  \"will drop timezone information.\", UserWarning)\n"
     ]
    },
    {
     "data": {
      "text/plain": [
       "<matplotlib.legend.Legend at 0x2122da87f98>"
      ]
     },
     "execution_count": 147,
     "metadata": {},
     "output_type": "execute_result"
    },
    {
     "data": {
      "image/png": "[encoded data removed]",
      "text/plain": [
       "<Figure size 1440x720 with 1 Axes>"
      ]
     },
     "metadata": {
      "needs_background": "light"
     },
     "output_type": "display_data"
    }
   ],
   "source": [
    "YM_answers = answers.answers_date_added.dt.to_period('M').value_counts().sort_index()\n",
    "YM_answers.plot(kind='bar', figsize=(20,10))\n",
    "plt.legend()"
   ]
  },
  {
   "cell_type": "markdown",
   "metadata": {},
   "source": [
    "### Q2: How many students and professionals participate on the platform?\n",
    "\n",
    "<strong>yearly_questions:</strong> 2016 had the most questions asked by Students\n",
    "\n",
    "<strong>yearly_answers:</strong> 2016 and 2018 had the most questions answered by Professionals\n",
    "\n",
    "<strong>monthly_questions:</strong> May was month in which most questions were asked overall\n",
    "\n",
    "<strong>monthly_answers:</strong> May was month in which most questions were answered overall\n",
    "\n",
    "<strong>YM_questions:</strong> May-2016 had the most questions\n",
    "\n",
    "<strong>YM_answers:</strong> May-2016 had the most answers, but it seems like significant number of answers were given during the months following May-2016."
   ]
  },
  {
   "cell_type": "code",
   "execution_count": 195,
   "metadata": {},
   "outputs": [
    {
     "name": "stderr",
     "output_type": "stream",
     "text": [
      "C:\\Users\\kvsis\\Anaconda3\\envs\\deepenv\\lib\\site-packages\\pandas\\core\\arrays\\datetimes.py:1172: UserWarning: Converting to PeriodArray/Index representation will drop timezone information.\n",
      "  \"will drop timezone information.\", UserWarning)\n",
      "C:\\Users\\kvsis\\Anaconda3\\envs\\deepenv\\lib\\site-packages\\pandas\\core\\arrays\\datetimes.py:1172: UserWarning: Converting to PeriodArray/Index representation will drop timezone information.\n",
      "  \"will drop timezone information.\", UserWarning)\n",
      "C:\\Users\\kvsis\\Anaconda3\\envs\\deepenv\\lib\\site-packages\\pandas\\core\\arrays\\datetimes.py:1172: UserWarning: Converting to PeriodArray/Index representation will drop timezone information.\n",
      "  \"will drop timezone information.\", UserWarning)\n"
     ]
    },
    {
     "data": {
      "text/html": [
       "<div>\n",
       "<style scoped>\n",
       "    .dataframe tbody tr th:only-of-type {\n",
       "        vertical-align: middle;\n",
       "    }\n",
       "\n",
       "    .dataframe tbody tr th {\n",
       "        vertical-align: top;\n",
       "    }\n",
       "\n",
       "    .dataframe thead th {\n",
       "        text-align: right;\n",
       "    }\n",
       "</style>\n",
       "<table border=\"1\" class=\"dataframe\">\n",
       "  <thead>\n",
       "    <tr style=\"text-align: right;\">\n",
       "      <th></th>\n",
       "      <th>Questions</th>\n",
       "      <th>Answers</th>\n",
       "    </tr>\n",
       "  </thead>\n",
       "  <tbody>\n",
       "    <tr>\n",
       "      <th>2011-09</th>\n",
       "      <td>7.0</td>\n",
       "      <td>8.0</td>\n",
       "    </tr>\n",
       "    <tr>\n",
       "      <th>2011-10</th>\n",
       "      <td>1.0</td>\n",
       "      <td>5.0</td>\n",
       "    </tr>\n",
       "    <tr>\n",
       "      <th>2011-11</th>\n",
       "      <td>3.0</td>\n",
       "      <td>21.0</td>\n",
       "    </tr>\n",
       "    <tr>\n",
       "      <th>2011-12</th>\n",
       "      <td>18.0</td>\n",
       "      <td>177.0</td>\n",
       "    </tr>\n",
       "    <tr>\n",
       "      <th>2012-01</th>\n",
       "      <td>135.0</td>\n",
       "      <td>99.0</td>\n",
       "    </tr>\n",
       "    <tr>\n",
       "      <th>2012-02</th>\n",
       "      <td>35.0</td>\n",
       "      <td>74.0</td>\n",
       "    </tr>\n",
       "    <tr>\n",
       "      <th>2012-03</th>\n",
       "      <td>33.0</td>\n",
       "      <td>30.0</td>\n",
       "    </tr>\n",
       "    <tr>\n",
       "      <th>2012-04</th>\n",
       "      <td>25.0</td>\n",
       "      <td>50.0</td>\n",
       "    </tr>\n",
       "    <tr>\n",
       "      <th>2012-05</th>\n",
       "      <td>31.0</td>\n",
       "      <td>20.0</td>\n",
       "    </tr>\n",
       "    <tr>\n",
       "      <th>2012-06</th>\n",
       "      <td>6.0</td>\n",
       "      <td>11.0</td>\n",
       "    </tr>\n",
       "    <tr>\n",
       "      <th>2012-07</th>\n",
       "      <td>6.0</td>\n",
       "      <td>4.0</td>\n",
       "    </tr>\n",
       "    <tr>\n",
       "      <th>2012-08</th>\n",
       "      <td>2.0</td>\n",
       "      <td>131.0</td>\n",
       "    </tr>\n",
       "    <tr>\n",
       "      <th>2012-09</th>\n",
       "      <td>116.0</td>\n",
       "      <td>83.0</td>\n",
       "    </tr>\n",
       "    <tr>\n",
       "      <th>2012-10</th>\n",
       "      <td>41.0</td>\n",
       "      <td>7.0</td>\n",
       "    </tr>\n",
       "    <tr>\n",
       "      <th>2012-11</th>\n",
       "      <td>2.0</td>\n",
       "      <td>6.0</td>\n",
       "    </tr>\n",
       "    <tr>\n",
       "      <th>2012-12</th>\n",
       "      <td>3.0</td>\n",
       "      <td>6.0</td>\n",
       "    </tr>\n",
       "    <tr>\n",
       "      <th>2013-01</th>\n",
       "      <td>1.0</td>\n",
       "      <td>12.0</td>\n",
       "    </tr>\n",
       "    <tr>\n",
       "      <th>2013-02</th>\n",
       "      <td>4.0</td>\n",
       "      <td>54.0</td>\n",
       "    </tr>\n",
       "    <tr>\n",
       "      <th>2013-03</th>\n",
       "      <td>51.0</td>\n",
       "      <td>64.0</td>\n",
       "    </tr>\n",
       "    <tr>\n",
       "      <th>2013-04</th>\n",
       "      <td>29.0</td>\n",
       "      <td>6.0</td>\n",
       "    </tr>\n",
       "    <tr>\n",
       "      <th>2013-05</th>\n",
       "      <td>2.0</td>\n",
       "      <td>22.0</td>\n",
       "    </tr>\n",
       "    <tr>\n",
       "      <th>2013-06</th>\n",
       "      <td>6.0</td>\n",
       "      <td>16.0</td>\n",
       "    </tr>\n",
       "    <tr>\n",
       "      <th>2013-07</th>\n",
       "      <td>1.0</td>\n",
       "      <td>9.0</td>\n",
       "    </tr>\n",
       "    <tr>\n",
       "      <th>2013-08</th>\n",
       "      <td>4.0</td>\n",
       "      <td>43.0</td>\n",
       "    </tr>\n",
       "    <tr>\n",
       "      <th>2013-09</th>\n",
       "      <td>14.0</td>\n",
       "      <td>142.0</td>\n",
       "    </tr>\n",
       "    <tr>\n",
       "      <th>2013-10</th>\n",
       "      <td>20.0</td>\n",
       "      <td>18.0</td>\n",
       "    </tr>\n",
       "    <tr>\n",
       "      <th>2013-11</th>\n",
       "      <td>5.0</td>\n",
       "      <td>40.0</td>\n",
       "    </tr>\n",
       "    <tr>\n",
       "      <th>2013-12</th>\n",
       "      <td>20.0</td>\n",
       "      <td>60.0</td>\n",
       "    </tr>\n",
       "    <tr>\n",
       "      <th>2014-01</th>\n",
       "      <td>11.0</td>\n",
       "      <td>411.0</td>\n",
       "    </tr>\n",
       "    <tr>\n",
       "      <th>2014-02</th>\n",
       "      <td>23.0</td>\n",
       "      <td>388.0</td>\n",
       "    </tr>\n",
       "    <tr>\n",
       "      <th>...</th>\n",
       "      <td>...</td>\n",
       "      <td>...</td>\n",
       "    </tr>\n",
       "    <tr>\n",
       "      <th>2016-08</th>\n",
       "      <td>466.0</td>\n",
       "      <td>621.0</td>\n",
       "    </tr>\n",
       "    <tr>\n",
       "      <th>2016-09</th>\n",
       "      <td>172.0</td>\n",
       "      <td>2893.0</td>\n",
       "    </tr>\n",
       "    <tr>\n",
       "      <th>2016-10</th>\n",
       "      <td>1501.0</td>\n",
       "      <td>737.0</td>\n",
       "    </tr>\n",
       "    <tr>\n",
       "      <th>2016-11</th>\n",
       "      <td>176.0</td>\n",
       "      <td>496.0</td>\n",
       "    </tr>\n",
       "    <tr>\n",
       "      <th>2016-12</th>\n",
       "      <td>219.0</td>\n",
       "      <td>1262.0</td>\n",
       "    </tr>\n",
       "    <tr>\n",
       "      <th>2017-01</th>\n",
       "      <td>313.0</td>\n",
       "      <td>926.0</td>\n",
       "    </tr>\n",
       "    <tr>\n",
       "      <th>2017-02</th>\n",
       "      <td>800.0</td>\n",
       "      <td>707.0</td>\n",
       "    </tr>\n",
       "    <tr>\n",
       "      <th>2017-03</th>\n",
       "      <td>343.0</td>\n",
       "      <td>764.0</td>\n",
       "    </tr>\n",
       "    <tr>\n",
       "      <th>2017-04</th>\n",
       "      <td>188.0</td>\n",
       "      <td>2415.0</td>\n",
       "    </tr>\n",
       "    <tr>\n",
       "      <th>2017-05</th>\n",
       "      <td>271.0</td>\n",
       "      <td>887.0</td>\n",
       "    </tr>\n",
       "    <tr>\n",
       "      <th>2017-06</th>\n",
       "      <td>26.0</td>\n",
       "      <td>609.0</td>\n",
       "    </tr>\n",
       "    <tr>\n",
       "      <th>2017-07</th>\n",
       "      <td>44.0</td>\n",
       "      <td>621.0</td>\n",
       "    </tr>\n",
       "    <tr>\n",
       "      <th>2017-08</th>\n",
       "      <td>176.0</td>\n",
       "      <td>1317.0</td>\n",
       "    </tr>\n",
       "    <tr>\n",
       "      <th>2017-09</th>\n",
       "      <td>736.0</td>\n",
       "      <td>1324.0</td>\n",
       "    </tr>\n",
       "    <tr>\n",
       "      <th>2017-10</th>\n",
       "      <td>161.0</td>\n",
       "      <td>876.0</td>\n",
       "    </tr>\n",
       "    <tr>\n",
       "      <th>2017-11</th>\n",
       "      <td>91.0</td>\n",
       "      <td>732.0</td>\n",
       "    </tr>\n",
       "    <tr>\n",
       "      <th>2017-12</th>\n",
       "      <td>106.0</td>\n",
       "      <td>949.0</td>\n",
       "    </tr>\n",
       "    <tr>\n",
       "      <th>2018-01</th>\n",
       "      <td>2471.0</td>\n",
       "      <td>1560.0</td>\n",
       "    </tr>\n",
       "    <tr>\n",
       "      <th>2018-02</th>\n",
       "      <td>102.0</td>\n",
       "      <td>1940.0</td>\n",
       "    </tr>\n",
       "    <tr>\n",
       "      <th>2018-03</th>\n",
       "      <td>915.0</td>\n",
       "      <td>2187.0</td>\n",
       "    </tr>\n",
       "    <tr>\n",
       "      <th>2018-04</th>\n",
       "      <td>828.0</td>\n",
       "      <td>1627.0</td>\n",
       "    </tr>\n",
       "    <tr>\n",
       "      <th>2018-05</th>\n",
       "      <td>712.0</td>\n",
       "      <td>1178.0</td>\n",
       "    </tr>\n",
       "    <tr>\n",
       "      <th>2018-06</th>\n",
       "      <td>198.0</td>\n",
       "      <td>769.0</td>\n",
       "    </tr>\n",
       "    <tr>\n",
       "      <th>2018-07</th>\n",
       "      <td>364.0</td>\n",
       "      <td>2082.0</td>\n",
       "    </tr>\n",
       "    <tr>\n",
       "      <th>2018-08</th>\n",
       "      <td>1506.0</td>\n",
       "      <td>1462.0</td>\n",
       "    </tr>\n",
       "    <tr>\n",
       "      <th>2018-09</th>\n",
       "      <td>301.0</td>\n",
       "      <td>1078.0</td>\n",
       "    </tr>\n",
       "    <tr>\n",
       "      <th>2018-10</th>\n",
       "      <td>348.0</td>\n",
       "      <td>1256.0</td>\n",
       "    </tr>\n",
       "    <tr>\n",
       "      <th>2018-11</th>\n",
       "      <td>126.0</td>\n",
       "      <td>638.0</td>\n",
       "    </tr>\n",
       "    <tr>\n",
       "      <th>2018-12</th>\n",
       "      <td>123.0</td>\n",
       "      <td>851.0</td>\n",
       "    </tr>\n",
       "    <tr>\n",
       "      <th>2019-01</th>\n",
       "      <td>307.0</td>\n",
       "      <td>NaN</td>\n",
       "    </tr>\n",
       "  </tbody>\n",
       "</table>\n",
       "<p>89 rows × 2 columns</p>\n",
       "</div>"
      ],
      "text/plain": [
       "         Questions  Answers\n",
       "2011-09        7.0      8.0\n",
       "2011-10        1.0      5.0\n",
       "2011-11        3.0     21.0\n",
       "2011-12       18.0    177.0\n",
       "2012-01      135.0     99.0\n",
       "2012-02       35.0     74.0\n",
       "2012-03       33.0     30.0\n",
       "2012-04       25.0     50.0\n",
       "2012-05       31.0     20.0\n",
       "2012-06        6.0     11.0\n",
       "2012-07        6.0      4.0\n",
       "2012-08        2.0    131.0\n",
       "2012-09      116.0     83.0\n",
       "2012-10       41.0      7.0\n",
       "2012-11        2.0      6.0\n",
       "2012-12        3.0      6.0\n",
       "2013-01        1.0     12.0\n",
       "2013-02        4.0     54.0\n",
       "2013-03       51.0     64.0\n",
       "2013-04       29.0      6.0\n",
       "2013-05        2.0     22.0\n",
       "2013-06        6.0     16.0\n",
       "2013-07        1.0      9.0\n",
       "2013-08        4.0     43.0\n",
       "2013-09       14.0    142.0\n",
       "2013-10       20.0     18.0\n",
       "2013-11        5.0     40.0\n",
       "2013-12       20.0     60.0\n",
       "2014-01       11.0    411.0\n",
       "2014-02       23.0    388.0\n",
       "...            ...      ...\n",
       "2016-08      466.0    621.0\n",
       "2016-09      172.0   2893.0\n",
       "2016-10     1501.0    737.0\n",
       "2016-11      176.0    496.0\n",
       "2016-12      219.0   1262.0\n",
       "2017-01      313.0    926.0\n",
       "2017-02      800.0    707.0\n",
       "2017-03      343.0    764.0\n",
       "2017-04      188.0   2415.0\n",
       "2017-05      271.0    887.0\n",
       "2017-06       26.0    609.0\n",
       "2017-07       44.0    621.0\n",
       "2017-08      176.0   1317.0\n",
       "2017-09      736.0   1324.0\n",
       "2017-10      161.0    876.0\n",
       "2017-11       91.0    732.0\n",
       "2017-12      106.0    949.0\n",
       "2018-01     2471.0   1560.0\n",
       "2018-02      102.0   1940.0\n",
       "2018-03      915.0   2187.0\n",
       "2018-04      828.0   1627.0\n",
       "2018-05      712.0   1178.0\n",
       "2018-06      198.0    769.0\n",
       "2018-07      364.0   2082.0\n",
       "2018-08     1506.0   1462.0\n",
       "2018-09      301.0   1078.0\n",
       "2018-10      348.0   1256.0\n",
       "2018-11      126.0    638.0\n",
       "2018-12      123.0    851.0\n",
       "2019-01      307.0      NaN\n",
       "\n",
       "[89 rows x 2 columns]"
      ]
     },
     "execution_count": 195,
     "metadata": {},
     "output_type": "execute_result"
    }
   ],
   "source": [
    "# Let's compare the questions and answers on a YM basis\n",
    "YM_QA = pd.DataFrame([questions.questions_date_added.dt.to_period('M').value_counts().sort_index().tolist(), answers.answers_date_added.dt.to_period('M').value_counts().sort_index().tolist()]).T\n",
    "YM_QA.columns = ['Questions', 'Answers']\n",
    "YM_QA.index = questions.questions_date_added.dt.to_period('M').value_counts().sort_index().index\n",
    "YM_QA"
   ]
  },
  {
   "cell_type": "code",
   "execution_count": 215,
   "metadata": {},
   "outputs": [
    {
     "data": {
      "text/plain": [
       "<matplotlib.axes._subplots.AxesSubplot at 0x212378b07f0>"
      ]
     },
     "execution_count": 215,
     "metadata": {},
     "output_type": "execute_result"
    },
    {
     "data": {
      "image/png": "[encoded data removed]",
      "text/plain": [
       "<Figure size 1440x720 with 1 Axes>"
      ]
     },
     "metadata": {
      "needs_background": "light"
     },
     "output_type": "display_data"
    }
   ],
   "source": [
    "YM_QA.plot(kind='bar', figsize=(20,10))"
   ]
  },
  {
   "cell_type": "code",
   "execution_count": 221,
   "metadata": {},
   "outputs": [
    {
     "data": {
      "text/plain": [
       "11344.0"
      ]
     },
     "execution_count": 221,
     "metadata": {},
     "output_type": "execute_result"
    }
   ],
   "source": [
    "YM_QA.Questions['2016-05':].sum()-YM_QA.Questions[:'2016-05'].sum()"
   ]
  },
  {
   "cell_type": "code",
   "execution_count": 222,
   "metadata": {},
   "outputs": [
    {
     "data": {
      "text/plain": [
       "23931.0"
      ]
     },
     "execution_count": 222,
     "metadata": {},
     "output_type": "execute_result"
    }
   ],
   "source": [
    "YM_QA.Questions.sum()"
   ]
  },
  {
   "cell_type": "code",
   "execution_count": 223,
   "metadata": {},
   "outputs": [
    {
     "data": {
      "text/plain": [
       "51123.0"
      ]
     },
     "execution_count": 223,
     "metadata": {},
     "output_type": "execute_result"
    }
   ],
   "source": [
    "YM_QA.Answers.sum()"
   ]
  },
  {
   "cell_type": "code",
   "execution_count": 224,
   "metadata": {},
   "outputs": [
    {
     "data": {
      "text/plain": [
       "25089.0"
      ]
     },
     "execution_count": 224,
     "metadata": {},
     "output_type": "execute_result"
    }
   ],
   "source": [
    "YM_QA.Answers['2016-05':].sum()-YM_QA.Answers[:'2016-05'].sum()"
   ]
  },
  {
   "cell_type": "code",
   "execution_count": 225,
   "metadata": {},
   "outputs": [
    {
     "data": {
      "text/plain": [
       "37436.0"
      ]
     },
     "execution_count": 225,
     "metadata": {},
     "output_type": "execute_result"
    }
   ],
   "source": [
    "YM_QA.Answers.sum()-YM_QA.Answers[:'2016-05'].sum()"
   ]
  },
  {
   "cell_type": "code",
   "execution_count": 226,
   "metadata": {},
   "outputs": [
    {
     "data": {
      "text/plain": [
       "38776.0"
      ]
     },
     "execution_count": 226,
     "metadata": {},
     "output_type": "execute_result"
    }
   ],
   "source": [
    "YM_QA.Answers['2016-05':].sum()"
   ]
  },
  {
   "cell_type": "code",
   "execution_count": null,
   "metadata": {},
   "outputs": [],
   "source": []
  }
 ],
 "metadata": {
  "kernelspec": {
   "display_name": "Python 3",
   "language": "python",
   "name": "python3"
  },
  "language_info": {
   "codemirror_mode": {
    "name": "ipython",
    "version": 3
   },
   "file_extension": ".py",
   "mimetype": "text/x-python",
   "name": "python",
   "nbconvert_exporter": "python",
   "pygments_lexer": "ipython3",
   "version": "3.7.2"
  }
 },
 "nbformat": 4,
 "nbformat_minor": 2
}
